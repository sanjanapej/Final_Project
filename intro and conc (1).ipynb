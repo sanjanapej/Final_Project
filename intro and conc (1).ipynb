{
 "cells": [
  {
   "cell_type": "markdown",
   "metadata": {},
   "source": [
    "# The best neighborhood for Pennywise to successfully lure in children "
   ]
  },
  {
   "cell_type": "markdown",
   "metadata": {},
   "source": [
    "Group members: Sanjana Pejathaya, Dejonia Dalhouse, Ifeoluwa Olusoga "
   ]
  },
  {
   "cell_type": "markdown",
   "metadata": {},
   "source": [
    "## Introduction"
   ]
  },
  {
   "cell_type": "markdown",
   "metadata": {},
   "source": [
    "From the title you can see our project is based on Pennywise from the movie IT and uses Allegheny County data to see where is the best neighborhood for Pennywise to lure in the most kids. We pondered for a little bit to figure out our metric but just used the scene when Pennywise kidnapped Georgie as inspiration for what to base our metric on: children, sewers, and bodies of water. We were thinking of using rain as an alternative but it generally rains the same amount in most counties so that wouldn't have been very useful. "
   ]
  },
  {
   "cell_type": "markdown",
   "metadata": {},
   "source": [
    "## Metric "
   ]
  },
  {
   "cell_type": "markdown",
   "metadata": {},
   "source": [
    "Our measure of \"worstness\" is if the area does not allow for Pennywise to capture and eat children. In contrast, our measure of \"greatness\" is if the neigbourhood has a well connected sewer system, with a good amount of children present to snatch.\n",
    "\n",
    "There are three components that make up this metric, firstly: Are the sewers well connected? As this is how he travels the city without being seen. Secondly: Are there large water bodies where he can reside and bide his time and lastly: where is there a high concentration of easy to manipulate children. Those components were selected because in the movie IT, Pennywise would use sewers to lure in children to take them to his hideout and eat them. \n",
    "\n",
    "The datasets we used: \n",
    "- [**Allegheny County Hydrology Lines**](https://data.wprdc.org/dataset/allegheny-county-hydrology-lines)\n",
    "- [**Enrollment by School and Neighborhood 2020-21**](https://data.wprdc.org/dataset/pittsburgh-public-schools-enrollment/resource/7b0660d1-c812-496d-ab0a-8560902e9e70)\n",
    "- [**Allegheny County Basin Outlines Map**](https://data.wprdc.org/dataset/allegheny-county-basin-outlines-map/resource/5e0d744a-8934-4336-8641-2411fcb07d6c)"
   ]
  },
  {
   "cell_type": "markdown",
   "metadata": {},
   "source": [
    "## The Best Neighborhoods"
   ]
  },
  {
   "cell_type": "markdown",
   "metadata": {},
   "source": [
    "----"
   ]
  },
  {
   "cell_type": "markdown",
   "metadata": {},
   "source": [
    "## Conclusion"
   ]
  }
 ],
 "metadata": {
  "kernelspec": {
   "display_name": "Python 3",
   "language": "python",
   "name": "python3"
  },
  "language_info": {
   "codemirror_mode": {
    "name": "ipython",
    "version": 3
   },
   "file_extension": ".py",
   "mimetype": "text/x-python",
   "name": "python",
   "nbconvert_exporter": "python",
   "pygments_lexer": "ipython3",
   "version": "3.8.3"
  }
 },
 "nbformat": 4,
 "nbformat_minor": 4
}
