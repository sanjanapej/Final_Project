{
 "cells": [
  {
   "cell_type": "markdown",
   "metadata": {},
   "source": [
    "# The Sewer System"
   ]
  },
  {
   "cell_type": "markdown",
   "metadata": {},
   "source": [
    "**Our team aims to find the best area where Pennywise from IT would be able to succeed in luring the most children. \n",
    "This notebook will help us evaluate the amount of sewer systems in Pittsburgh, knowing these areas would help us find out which neighborhood has a well connected system where there are children nearby to see if Pennywise would more than likely be in that location.**"
   ]
  },
  {
   "cell_type": "code",
   "execution_count": 29,
   "metadata": {},
   "outputs": [],
   "source": [
    "# Loading Pandas \n",
    "import pandas as pd\n",
    "import numpy as np\n",
    "%matplotlib inline\n",
    "import matplotlib.pyplot as plt"
   ]
  },
  {
   "cell_type": "markdown",
   "metadata": {},
   "source": [
    "**Here are the 10 entries that we get from the data set:**"
   ]
  },
  {
   "cell_type": "code",
   "execution_count": 4,
   "metadata": {},
   "outputs": [
    {
     "data": {
      "text/html": [
       "<div>\n",
       "<style scoped>\n",
       "    .dataframe tbody tr th:only-of-type {\n",
       "        vertical-align: middle;\n",
       "    }\n",
       "\n",
       "    .dataframe tbody tr th {\n",
       "        vertical-align: top;\n",
       "    }\n",
       "\n",
       "    .dataframe thead th {\n",
       "        text-align: right;\n",
       "    }\n",
       "</style>\n",
       "<table border=\"1\" class=\"dataframe\">\n",
       "  <thead>\n",
       "    <tr style=\"text-align: right;\">\n",
       "      <th></th>\n",
       "      <th>_id</th>\n",
       "      <th>fid</th>\n",
       "      <th>perimeter</th>\n",
       "      <th>poly</th>\n",
       "      <th>subclass</th>\n",
       "      <th>subclass_</th>\n",
       "      <th>basin</th>\n",
       "      <th>symbol</th>\n",
       "      <th>direction</th>\n",
       "      <th>shape_length</th>\n",
       "      <th>shape_area</th>\n",
       "    </tr>\n",
       "  </thead>\n",
       "  <tbody>\n",
       "    <tr>\n",
       "      <th>0</th>\n",
       "      <td>1090</td>\n",
       "      <td>1</td>\n",
       "      <td>161330.9100</td>\n",
       "      <td>1</td>\n",
       "      <td>BASIN</td>\n",
       "      <td>5</td>\n",
       "      <td>Lower Ohio River</td>\n",
       "      <td>17</td>\n",
       "      <td>north</td>\n",
       "      <td>0.513314</td>\n",
       "      <td>0.006315</td>\n",
       "    </tr>\n",
       "    <tr>\n",
       "      <th>1</th>\n",
       "      <td>1091</td>\n",
       "      <td>2</td>\n",
       "      <td>113386.4000</td>\n",
       "      <td>2</td>\n",
       "      <td>BASIN</td>\n",
       "      <td>1</td>\n",
       "      <td>Upper Ohio/Allegheny/Monongahela Ri</td>\n",
       "      <td>12</td>\n",
       "      <td>north</td>\n",
       "      <td>0.368109</td>\n",
       "      <td>0.003316</td>\n",
       "    </tr>\n",
       "    <tr>\n",
       "      <th>2</th>\n",
       "      <td>1092</td>\n",
       "      <td>3</td>\n",
       "      <td>147009.8000</td>\n",
       "      <td>3</td>\n",
       "      <td>BASIN</td>\n",
       "      <td>2</td>\n",
       "      <td>Lower Northern Allegheny River</td>\n",
       "      <td>23</td>\n",
       "      <td>north</td>\n",
       "      <td>0.463225</td>\n",
       "      <td>0.003780</td>\n",
       "    </tr>\n",
       "    <tr>\n",
       "      <th>3</th>\n",
       "      <td>1093</td>\n",
       "      <td>4</td>\n",
       "      <td>103578.0000</td>\n",
       "      <td>4</td>\n",
       "      <td>BASIN</td>\n",
       "      <td>3</td>\n",
       "      <td>Upper Allegheny River</td>\n",
       "      <td>57</td>\n",
       "      <td>north</td>\n",
       "      <td>0.329912</td>\n",
       "      <td>0.004036</td>\n",
       "    </tr>\n",
       "    <tr>\n",
       "      <th>4</th>\n",
       "      <td>1094</td>\n",
       "      <td>5</td>\n",
       "      <td>53398.6990</td>\n",
       "      <td>5</td>\n",
       "      <td>BASIN</td>\n",
       "      <td>5</td>\n",
       "      <td>Lower Ohio River</td>\n",
       "      <td>17</td>\n",
       "      <td>north</td>\n",
       "      <td>0.184703</td>\n",
       "      <td>0.000365</td>\n",
       "    </tr>\n",
       "    <tr>\n",
       "      <th>5</th>\n",
       "      <td>1095</td>\n",
       "      <td>6</td>\n",
       "      <td>349470.8100</td>\n",
       "      <td>6</td>\n",
       "      <td>BASIN</td>\n",
       "      <td>4</td>\n",
       "      <td>Chartiers Creek</td>\n",
       "      <td>25</td>\n",
       "      <td>south</td>\n",
       "      <td>1.123562</td>\n",
       "      <td>0.026668</td>\n",
       "    </tr>\n",
       "    <tr>\n",
       "      <th>6</th>\n",
       "      <td>1096</td>\n",
       "      <td>7</td>\n",
       "      <td>92945.4690</td>\n",
       "      <td>7</td>\n",
       "      <td>BASIN</td>\n",
       "      <td>1</td>\n",
       "      <td>Upper Ohio/Allegheny/Monongahela Ri</td>\n",
       "      <td>12</td>\n",
       "      <td>north</td>\n",
       "      <td>0.293921</td>\n",
       "      <td>0.002346</td>\n",
       "    </tr>\n",
       "    <tr>\n",
       "      <th>7</th>\n",
       "      <td>1097</td>\n",
       "      <td>8</td>\n",
       "      <td>6792.2939</td>\n",
       "      <td>8</td>\n",
       "      <td>BASIN</td>\n",
       "      <td>5</td>\n",
       "      <td>Lower Ohio River</td>\n",
       "      <td>17</td>\n",
       "      <td>north</td>\n",
       "      <td>0.023594</td>\n",
       "      <td>0.000017</td>\n",
       "    </tr>\n",
       "    <tr>\n",
       "      <th>8</th>\n",
       "      <td>1098</td>\n",
       "      <td>9</td>\n",
       "      <td>130340.8000</td>\n",
       "      <td>9</td>\n",
       "      <td>BASIN</td>\n",
       "      <td>1</td>\n",
       "      <td>Upper Ohio/Allegheny/Monongahela Ri</td>\n",
       "      <td>12</td>\n",
       "      <td>east</td>\n",
       "      <td>0.418928</td>\n",
       "      <td>0.004624</td>\n",
       "    </tr>\n",
       "    <tr>\n",
       "      <th>9</th>\n",
       "      <td>1099</td>\n",
       "      <td>10</td>\n",
       "      <td>242297.9100</td>\n",
       "      <td>10</td>\n",
       "      <td>BASIN</td>\n",
       "      <td>7</td>\n",
       "      <td>Thompson Run/Turtle Creek</td>\n",
       "      <td>19</td>\n",
       "      <td>east</td>\n",
       "      <td>0.772217</td>\n",
       "      <td>0.016991</td>\n",
       "    </tr>\n",
       "  </tbody>\n",
       "</table>\n",
       "</div>"
      ],
      "text/plain": [
       "    _id  fid    perimeter  poly subclass  subclass_  \\\n",
       "0  1090    1  161330.9100     1    BASIN          5   \n",
       "1  1091    2  113386.4000     2    BASIN          1   \n",
       "2  1092    3  147009.8000     3    BASIN          2   \n",
       "3  1093    4  103578.0000     4    BASIN          3   \n",
       "4  1094    5   53398.6990     5    BASIN          5   \n",
       "5  1095    6  349470.8100     6    BASIN          4   \n",
       "6  1096    7   92945.4690     7    BASIN          1   \n",
       "7  1097    8    6792.2939     8    BASIN          5   \n",
       "8  1098    9  130340.8000     9    BASIN          1   \n",
       "9  1099   10  242297.9100    10    BASIN          7   \n",
       "\n",
       "                                 basin  symbol direction  shape_length  \\\n",
       "0                     Lower Ohio River      17     north      0.513314   \n",
       "1  Upper Ohio/Allegheny/Monongahela Ri      12     north      0.368109   \n",
       "2       Lower Northern Allegheny River      23     north      0.463225   \n",
       "3                Upper Allegheny River      57     north      0.329912   \n",
       "4                     Lower Ohio River      17     north      0.184703   \n",
       "5                      Chartiers Creek      25     south      1.123562   \n",
       "6  Upper Ohio/Allegheny/Monongahela Ri      12     north      0.293921   \n",
       "7                     Lower Ohio River      17     north      0.023594   \n",
       "8  Upper Ohio/Allegheny/Monongahela Ri      12      east      0.418928   \n",
       "9            Thompson Run/Turtle Creek      19      east      0.772217   \n",
       "\n",
       "   shape_area  \n",
       "0    0.006315  \n",
       "1    0.003316  \n",
       "2    0.003780  \n",
       "3    0.004036  \n",
       "4    0.000365  \n",
       "5    0.026668  \n",
       "6    0.002346  \n",
       "7    0.000017  \n",
       "8    0.004624  \n",
       "9    0.016991  "
      ]
     },
     "execution_count": 4,
     "metadata": {},
     "output_type": "execute_result"
    }
   ],
   "source": [
    "tsv_file = \"Basin.tsv\"\n",
    "df = pd.read_csv(tsv_file, sep=\"\\t\")\n",
    "df.head(10)\n",
    "                   "
   ]
  },
  {
   "cell_type": "markdown",
   "metadata": {},
   "source": [
    "**Using this information we can now narrow down the areas in which it would be easier/faster for Pennywise to travel. The smaller sizes would be considered.**"
   ]
  },
  {
   "cell_type": "code",
   "execution_count": 30,
   "metadata": {},
   "outputs": [
    {
     "name": "stdout",
     "output_type": "stream",
     "text": [
      "                                 basin  shape_length   Size\n",
      "5                      Chartiers Creek      1.123562  Small\n",
      "9            Thompson Run/Turtle Creek      0.772217  Small\n",
      "0                     Lower Ohio River      0.513314  Small\n",
      "2       Lower Northern Allegheny River      0.463225  Small\n",
      "8  Upper Ohio/Allegheny/Monongahela Ri      0.418928  Small\n",
      "1  Upper Ohio/Allegheny/Monongahela Ri      0.368109   Huge\n",
      "3                Upper Allegheny River      0.329912   Huge\n",
      "6  Upper Ohio/Allegheny/Monongahela Ri      0.293921   Huge\n",
      "4                     Lower Ohio River      0.184703   Huge\n",
      "7                     Lower Ohio River      0.023594   Huge\n"
     ]
    }
   ],
   "source": [
    "import pandas as pd\n",
    "basin_threshold = 0.368109\n",
    "# basins with area greater than or equal to 0.368109 \n",
    "\n",
    "df1['Size'] = 'Huge'\n",
    "df1.loc[df1['shape_length'] >= basin_threshold, 'Size'] = 'Small'\n",
    "\n",
    "# Sort 'shape_length' in from greatest to least\n",
    "# filter out rows where 'fid' is higher than 10\n",
    "filterd = df1.sort_values(by='shape_length', ascending=False).loc[(df1['fid'] <= 10) ]\n",
    "print(filterd[['basin', 'shape_length', 'Size']])\n",
    "\n"
   ]
  },
  {
   "cell_type": "markdown",
   "metadata": {},
   "source": [
    "**Based on research the Chartiers Creek is the smallest length and Lower Ohio River would be the largest, this is going in descending order.**"
   ]
  },
  {
   "cell_type": "markdown",
   "metadata": {},
   "source": [
    "**Now we'd use the information and research known to categorize what people would be doing in these ares and would it be a child friendly activity and if Pennyswise would want to be in this area:**"
   ]
  },
  {
   "cell_type": "code",
   "execution_count": 25,
   "metadata": {},
   "outputs": [
    {
     "name": "stdout",
     "output_type": "stream",
     "text": [
      "                                 basin     Category   Size\n",
      "0                     Lower Ohio River      Too far  Small\n",
      "2       Lower Northern Allegheny River      Too far  Small\n",
      "5                      Chartiers Creek      fishing  Small\n",
      "8  Upper Ohio/Allegheny/Monongahela Ri      fishing  Small\n",
      "9            Thompson Run/Turtle Creek  field trips  Small\n"
     ]
    }
   ],
   "source": [
    "categories = {\n",
    "'Thompson Run/Turtle Creek': 'Field trips',\n",
    "    'Chartiers Creek': 'Fishing',\n",
    "    'Upper Ohio/Allegheny/Monongahela Ri': 'Fishing',\n",
    "    'Lower Ohio River' : 'Too far',  \n",
    "    'Lower Northern Allegheny River': 'Too far'\n",
    "}\n",
    "\n",
    "# Create a new column 'Category' and assign categories based on basin names\n",
    "df1['Category'] = df1['basin'].map(categories).fillna('Unknown')\n",
    "basint = 0.368109  \n",
    "\n",
    "# assign categories based on basin area\n",
    "df1['Size'] = 'Huge'\n",
    "df1.loc[df1['shape_length'] >= basint 'Size'] = 'Small'\n",
    "\n",
    "# show only rows where 'Size' is 'Small'\n",
    "filtered_df = df1[(df1['fid'] <= 10) & (df1['Size'] == 'Small')]\n",
    "\n",
    "# Display the DataFrame with the new 'Category' and 'Size' columns\n",
    "print(filtered_df[['basin', 'Category', 'Size']])\n",
    "\n",
    "\n"
   ]
  },
  {
   "cell_type": "markdown",
   "metadata": {},
   "source": [
    "**Here's a graph showing the results:**"
   ]
  },
  {
   "cell_type": "code",
   "execution_count": 28,
   "metadata": {},
   "outputs": [
    {
     "name": "stdout",
     "output_type": "stream",
     "text": [
      "                                 basin     Category   Size\n",
      "0                     Lower Ohio River      Too far  Small\n",
      "2       Lower Northern Allegheny River      Too far  Small\n",
      "5                      Chartiers Creek      fishing  Small\n",
      "8  Upper Ohio/Allegheny/Monongahela Ri      fishing  Small\n",
      "9            Thompson Run/Turtle Creek  field trips  Small\n"
     ]
    },
    {
     "data": {
      "image/png": "[encoded data removed]",
      "text/plain": [
       "<Figure size 432x288 with 1 Axes>"
      ]
     },
     "metadata": {
      "needs_background": "light"
     },
     "output_type": "display_data"
    }
   ],
   "source": [
    "categories = {\n",
    "    'Thompson Run/Turtle Creek': 'Field trips',\n",
    "    'Chartiers Creek': 'Fishing',\n",
    "    'Upper Ohio/Allegheny/Monongahela Ri': 'Fishing',\n",
    "    'Lower Ohio River': 'Too far',\n",
    "    'Lower Northern Allegheny River': 'Too far'\n",
    "}\n",
    "\n",
    "# Display the DataFrame with the new 'Category' and 'Size' columns\n",
    "print(filtered_df[['basin', 'Category', 'Size']])\n",
    "\n",
    "categoryc = filtered_df['Category'].value_counts()\n",
    "\n",
    "plt.bar(categoryc.index, categoryc.values, color='pink')\n",
    "plt.xlabel('Categories')\n",
    "plt.ylabel('Number of Basins')\n",
    "plt.title('Distribution of Basins across Categories')\n",
    "plt.show()\n"
   ]
  },
  {
   "cell_type": "markdown",
   "metadata": {},
   "source": [
    "**Thompson Run/Turtle Creek would be the best Basin for Pennywise to due to the location and being one of the smallest basins, which would allow Pennywise to snatch children.**"
   ]
  },
  {
   "cell_type": "code",
   "execution_count": null,
   "metadata": {},
   "outputs": [],
   "source": []
  }
 ],
 "metadata": {
  "kernelspec": {
   "display_name": "Python 3",
   "language": "python",
   "name": "python3"
  },
  "language_info": {
   "codemirror_mode": {
    "name": "ipython",
    "version": 3
   },
   "file_extension": ".py",
   "mimetype": "text/x-python",
   "name": "python",
   "nbconvert_exporter": "python",
   "pygments_lexer": "ipython3",
   "version": "3.8.3"
  }
 },
 "nbformat": 4,
 "nbformat_minor": 4
}
